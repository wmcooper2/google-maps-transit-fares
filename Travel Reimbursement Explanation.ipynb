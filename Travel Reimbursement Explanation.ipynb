{
 "cells": [
  {
   "cell_type": "markdown",
   "metadata": {},
   "source": [
    "# Basic Process\n",
    "\n",
    "*Not all the code is shown below; just the highlights.*"
   ]
  },
  {
   "cell_type": "markdown",
   "metadata": {},
   "source": [
    "## scrape.py"
   ]
  },
  {
   "cell_type": "markdown",
   "metadata": {},
   "source": [
    "### 1. Load station data"
   ]
  },
  {
   "cell_type": "markdown",
   "metadata": {},
   "source": [
    "```python\n",
    "def get_fares_from_google_maps():\n",
    "    fares_waiting: set = load_fares_waiting(TARGET_STATIONS)\n",
    "    fare_count: int = file_counter(FARES)                                                                   \n",
    "    if DEST in fares_waiting:\n",
    "        fares_waiting.remove(DEST)\n",
    "    stations: List[Text] = list(fares_waiting)                      \n",
    "    stations.sort()    \n",
    "```"
   ]
  },
  {
   "cell_type": "markdown",
   "metadata": {},
   "source": [
    "### 2. Input the destination station"
   ]
  },
  {
   "cell_type": "markdown",
   "metadata": {},
   "source": [
    "``` python\n",
    "    wait(3)  # manually switch desktop\n",
    "    goto_search_input()\n",
    "    enter_text(DEST)\n",
    "    wait(3)\n",
    "    locate_directions_arrow()\n",
    "    wait(2)\n",
    "```"
   ]
  },
  {
   "cell_type": "markdown",
   "metadata": {},
   "source": [
    "### 3. Iterate through all the starting stations"
   ]
  },
  {
   "cell_type": "markdown",
   "metadata": {},
   "source": [
    "```python\n",
    "    # input the station starting points\n",
    "    while len(stations) > 0:\n",
    "        errors = 0\n",
    "        station = stations.pop(0)\n",
    "        st_name = f\"{station} Station\"\n",
    "        change_starting_station(st_name) \n",
    "\n",
    "        if errors > 20:\n",
    "            LOG.debug(\"Too many errors. Quitting...\")\n",
    "            exit()\n",
    "        if station not in load_stations(ISSUE_STATIONS):\n",
    "            if capture_fare(f\"{FARES}{st_name}_{DEST}.png\"):\n",
    "                fare_count += 1\n",
    "            else:\n",
    "                LOG.debug(f\"Fare not found: {st_name} to {DEST}\")\n",
    "                with open(ISSUE_STATIONS, \"a+\") as f:\n",
    "                    f.write(station+\"\\n\")\n",
    "                errors += 1\n",
    "```"
   ]
  },
  {
   "cell_type": "markdown",
   "metadata": {},
   "source": [
    "`capture_fare()` takes a screenshot of the fare and extracts the price with pytesseract.  \n",
    "It is loaded from `googlemaps.py`."
   ]
  },
  {
   "cell_type": "markdown",
   "metadata": {},
   "source": [
    "## googlemaps.py"
   ]
  },
  {
   "cell_type": "markdown",
   "metadata": {},
   "source": [
    "```python\n",
    "def capture_fare(saveto: Text) -> bool:\n",
    "    \"\"\"Screenshot the first fare price. Returns bool.\"\"\"\n",
    "    attempts = 0\n",
    "    max_attempts = 5\n",
    "    while attempts < max_attempts:\n",
    "        try:\n",
    "            yenX, yenY = pyautogui.locateCenterOnScreen(YEN,\n",
    "                    region=(50, 460, 80, 50), confidence=0.9)\n",
    "            pyautogui.moveTo(yenX, yenY)\n",
    "            img = pyautogui.screenshot(\n",
    "                region=(yenX-10, yenY-10, 60, 20))\n",
    "            img.save(saveto)\n",
    "            actual_fare = image_to_fare(img)  # pytesseract\n",
    "            LOG.debug(f\"{actual_fare}, {saveto}\")\n",
    "            return True\n",
    "        except TypeError:\n",
    "            LOG.debug(\"Yen symbol not found. Skipping...\")\n",
    "        except:\n",
    "            LOG.debug(\"Unknown error with capture_fare(). Quitting...\")\n",
    "            attempts += max_attempts\n",
    "            return False\n",
    "        wait(2)\n",
    "        attempts += 1\n",
    "```"
   ]
  },
  {
   "cell_type": "markdown",
   "metadata": {},
   "source": [
    "`capture_fare()` saves an image of the fare, and converts the image to a value with `image_to_fare()`.  \n",
    "They are saved in `icons/` and `results/`."
   ]
  },
  {
   "cell_type": "markdown",
   "metadata": {},
   "source": [
    "## Examples"
   ]
  },
  {
   "cell_type": "markdown",
   "metadata": {},
   "source": [
    "`icons/` data is in `png` format and looks like this;  \n",
    "<img src=\"./icons/Kiba Station_Shinjuku Station.png\" />\n",
    "![alt text](\"icons/Kiba Station_Shinjuku Station.png\")  \n",
    "[icons/]<\"Kiba Station_Shinjuku Station.png\">\n",
    "\n",
    "`results/` data is in `txt` format and looks like this;  \n",
    "```bash\n",
    "280_Shinjuku Station_Kayabacho  \n",
    "220_Shinjuku Station_Kinshicho  \n",
    "210_Shinjuku Station_Kita-Sando  \n",
    "```"
   ]
  },
  {
   "cell_type": "markdown",
   "metadata": {},
   "source": []
  }
 ],
 "metadata": {
  "kernelspec": {
   "display_name": "Python 3",
   "language": "python",
   "name": "python3"
  },
  "language_info": {
   "codemirror_mode": {
    "name": "ipython",
    "version": 3
   },
   "file_extension": ".py",
   "mimetype": "text/x-python",
   "name": "python",
   "nbconvert_exporter": "python",
   "pygments_lexer": "ipython3",
   "version": "3.7.4"
  }
 },
 "nbformat": 4,
 "nbformat_minor": 2
}
